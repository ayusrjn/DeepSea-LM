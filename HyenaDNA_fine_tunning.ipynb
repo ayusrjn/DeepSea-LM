{
  "cells": [
    {
      "cell_type": "markdown",
      "metadata": {
        "id": "NGpLaBQ_jsL_"
      },
      "source": [
        "# Fine - Tunning HyenaDNA on Classification Task Using HELICAL"
      ]
    },
    {
      "cell_type": "code",
      "execution_count": 1,
      "metadata": {
        "colab": {
          "base_uri": "https://localhost:8080/"
        },
        "id": "H-HzDi3cjjIR",
        "outputId": "eba86751-a539-4767-e17f-800c0d9a81f1"
      },
      "outputs": [
        {
          "name": "stdout",
          "output_type": "stream",
          "text": [
            "Mon Sep 29 17:41:28 2025       \n",
            "+-----------------------------------------------------------------------------------------+\n",
            "| NVIDIA-SMI 550.54.15              Driver Version: 550.54.15      CUDA Version: 12.4     |\n",
            "|-----------------------------------------+------------------------+----------------------+\n",
            "| GPU  Name                 Persistence-M | Bus-Id          Disp.A | Volatile Uncorr. ECC |\n",
            "| Fan  Temp   Perf          Pwr:Usage/Cap |           Memory-Usage | GPU-Util  Compute M. |\n",
            "|                                         |                        |               MIG M. |\n",
            "|=========================================+========================+======================|\n",
            "|   0  Tesla T4                       Off |   00000000:00:04.0 Off |                    0 |\n",
            "| N/A   36C    P8              9W /   70W |       0MiB /  15360MiB |      0%      Default |\n",
            "|                                         |                        |                  N/A |\n",
            "+-----------------------------------------+------------------------+----------------------+\n",
            "                                                                                         \n",
            "+-----------------------------------------------------------------------------------------+\n",
            "| Processes:                                                                              |\n",
            "|  GPU   GI   CI        PID   Type   Process name                              GPU Memory |\n",
            "|        ID   ID                                                               Usage      |\n",
            "|=========================================================================================|\n",
            "|  No running processes found                                                             |\n",
            "+-----------------------------------------------------------------------------------------+\n"
          ]
        }
      ],
      "source": [
        "!nvidia-smi"
      ]
    },
    {
      "cell_type": "code",
      "execution_count": 2,
      "metadata": {
        "colab": {
          "base_uri": "https://localhost:8080/",
          "height": 1000
        },
        "collapsed": true,
        "id": "z5Ta9nIdmMey",
        "outputId": "411fffe9-149b-4525-dbb9-761592fbce0b"
      },
      "outputs": [
        {
          "name": "stdout",
          "output_type": "stream",
          "text": [
            "Collecting torchvision==0.20.0\n",
            "  Downloading torchvision-0.20.0-cp312-cp312-manylinux1_x86_64.whl.metadata (6.1 kB)\n",
            "Requirement already satisfied: numpy in /usr/local/lib/python3.12/dist-packages (from torchvision==0.20.0) (1.26.4)\n",
            "Collecting torch==2.5.0 (from torchvision==0.20.0)\n",
            "  Downloading torch-2.5.0-cp312-cp312-manylinux1_x86_64.whl.metadata (28 kB)\n",
            "Requirement already satisfied: pillow!=8.3.*,>=5.3.0 in /usr/local/lib/python3.12/dist-packages (from torchvision==0.20.0) (11.3.0)\n",
            "Requirement already satisfied: filelock in /usr/local/lib/python3.12/dist-packages (from torch==2.5.0->torchvision==0.20.0) (3.19.1)\n",
            "Requirement already satisfied: typing-extensions>=4.8.0 in /usr/local/lib/python3.12/dist-packages (from torch==2.5.0->torchvision==0.20.0) (4.15.0)\n",
            "Requirement already satisfied: networkx in /usr/local/lib/python3.12/dist-packages (from torch==2.5.0->torchvision==0.20.0) (3.5)\n",
            "Requirement already satisfied: jinja2 in /usr/local/lib/python3.12/dist-packages (from torch==2.5.0->torchvision==0.20.0) (3.1.6)\n",
            "Requirement already satisfied: fsspec in /usr/local/lib/python3.12/dist-packages (from torch==2.5.0->torchvision==0.20.0) (2025.3.0)\n",
            "Requirement already satisfied: nvidia-cuda-nvrtc-cu12==12.4.127 in /usr/local/lib/python3.12/dist-packages (from torch==2.5.0->torchvision==0.20.0) (12.4.127)\n",
            "Requirement already satisfied: nvidia-cuda-runtime-cu12==12.4.127 in /usr/local/lib/python3.12/dist-packages (from torch==2.5.0->torchvision==0.20.0) (12.4.127)\n",
            "Requirement already satisfied: nvidia-cuda-cupti-cu12==12.4.127 in /usr/local/lib/python3.12/dist-packages (from torch==2.5.0->torchvision==0.20.0) (12.4.127)\n",
            "Requirement already satisfied: nvidia-cudnn-cu12==9.1.0.70 in /usr/local/lib/python3.12/dist-packages (from torch==2.5.0->torchvision==0.20.0) (9.1.0.70)\n",
            "Requirement already satisfied: nvidia-cublas-cu12==12.4.5.8 in /usr/local/lib/python3.12/dist-packages (from torch==2.5.0->torchvision==0.20.0) (12.4.5.8)\n",
            "Requirement already satisfied: nvidia-cufft-cu12==11.2.1.3 in /usr/local/lib/python3.12/dist-packages (from torch==2.5.0->torchvision==0.20.0) (11.2.1.3)\n",
            "Requirement already satisfied: nvidia-curand-cu12==10.3.5.147 in /usr/local/lib/python3.12/dist-packages (from torch==2.5.0->torchvision==0.20.0) (10.3.5.147)\n",
            "Requirement already satisfied: nvidia-cusolver-cu12==11.6.1.9 in /usr/local/lib/python3.12/dist-packages (from torch==2.5.0->torchvision==0.20.0) (11.6.1.9)\n",
            "Requirement already satisfied: nvidia-cusparse-cu12==12.3.1.170 in /usr/local/lib/python3.12/dist-packages (from torch==2.5.0->torchvision==0.20.0) (12.3.1.170)\n",
            "Requirement already satisfied: nvidia-nccl-cu12==2.21.5 in /usr/local/lib/python3.12/dist-packages (from torch==2.5.0->torchvision==0.20.0) (2.21.5)\n",
            "Requirement already satisfied: nvidia-nvtx-cu12==12.4.127 in /usr/local/lib/python3.12/dist-packages (from torch==2.5.0->torchvision==0.20.0) (12.4.127)\n",
            "Requirement already satisfied: nvidia-nvjitlink-cu12==12.4.127 in /usr/local/lib/python3.12/dist-packages (from torch==2.5.0->torchvision==0.20.0) (12.4.127)\n",
            "Collecting triton==3.1.0 (from torch==2.5.0->torchvision==0.20.0)\n",
            "  Downloading triton-3.1.0-cp312-cp312-manylinux_2_17_x86_64.manylinux2014_x86_64.whl.metadata (1.3 kB)\n",
            "Requirement already satisfied: setuptools in /usr/local/lib/python3.12/dist-packages (from torch==2.5.0->torchvision==0.20.0) (75.2.0)\n",
            "Requirement already satisfied: sympy==1.13.1 in /usr/local/lib/python3.12/dist-packages (from torch==2.5.0->torchvision==0.20.0) (1.13.1)\n",
            "Requirement already satisfied: mpmath<1.4,>=1.1.0 in /usr/local/lib/python3.12/dist-packages (from sympy==1.13.1->torch==2.5.0->torchvision==0.20.0) (1.3.0)\n",
            "Requirement already satisfied: MarkupSafe>=2.0 in /usr/local/lib/python3.12/dist-packages (from jinja2->torch==2.5.0->torchvision==0.20.0) (3.0.2)\n",
            "Downloading torchvision-0.20.0-cp312-cp312-manylinux1_x86_64.whl (7.2 MB)\n",
            "\u001b[2K   \u001b[90m━━━━━━━━━━━━━━━━━━━━━━━━━━━━━━━━━━━━━━━━\u001b[0m \u001b[32m7.2/7.2 MB\u001b[0m \u001b[31m85.0 MB/s\u001b[0m eta \u001b[36m0:00:00\u001b[0m\n",
            "\u001b[?25hDownloading torch-2.5.0-cp312-cp312-manylinux1_x86_64.whl (906.4 MB)\n",
            "\u001b[2K   \u001b[90m━━━━━━━━━━━━━━━━━━━━━━━━━━━━━━━━━━━━━━━━\u001b[0m \u001b[32m906.4/906.4 MB\u001b[0m \u001b[31m1.1 MB/s\u001b[0m eta \u001b[36m0:00:00\u001b[0m\n",
            "\u001b[?25hDownloading triton-3.1.0-cp312-cp312-manylinux_2_17_x86_64.manylinux2014_x86_64.whl (209.6 MB)\n",
            "\u001b[2K   \u001b[90m━━━━━━━━━━━━━━━━━━━━━━━━━━━━━━━━━━━━━━━━\u001b[0m \u001b[32m209.6/209.6 MB\u001b[0m \u001b[31m5.6 MB/s\u001b[0m eta \u001b[36m0:00:00\u001b[0m\n",
            "\u001b[?25hInstalling collected packages: triton, torch, torchvision\n",
            "  Attempting uninstall: triton\n",
            "    Found existing installation: triton 3.2.0\n",
            "    Uninstalling triton-3.2.0:\n",
            "      Successfully uninstalled triton-3.2.0\n",
            "  Attempting uninstall: torch\n",
            "    Found existing installation: torch 2.6.0\n",
            "    Uninstalling torch-2.6.0:\n",
            "      Successfully uninstalled torch-2.6.0\n",
            "  Attempting uninstall: torchvision\n",
            "    Found existing installation: torchvision 0.23.0+cu126\n",
            "    Uninstalling torchvision-0.23.0+cu126:\n",
            "      Successfully uninstalled torchvision-0.23.0+cu126\n",
            "\u001b[31mERROR: pip's dependency resolver does not currently take into account all the packages that are installed. This behaviour is the source of the following dependency conflicts.\n",
            "helical 1.4.5 requires torch==2.6.0, but you have torch 2.5.0 which is incompatible.\n",
            "torchaudio 2.8.0+cu126 requires torch==2.8.0, but you have torch 2.5.0 which is incompatible.\u001b[0m\u001b[31m\n",
            "\u001b[0mSuccessfully installed torch-2.5.0 torchvision-0.20.0 triton-3.1.0\n"
          ]
        },
        {
          "data": {
            "application/vnd.colab-display-data+json": {
              "id": "ed7e2d19a78644569409ace066dbe371",
              "pip_warning": {
                "packages": [
                  "torch",
                  "torchgen",
                  "triton"
                ]
              }
            }
          },
          "metadata": {},
          "output_type": "display_data"
        },
        {
          "name": "stdout",
          "output_type": "stream",
          "text": [
            "Collecting helical\n",
            "  Using cached helical-1.4.5-py3-none-any.whl.metadata (55 kB)\n",
            "Using cached helical-1.4.5-py3-none-any.whl (295 kB)\n",
            "Installing collected packages: helical\n",
            "  Attempting uninstall: helical\n",
            "    Found existing installation: helical 1.4.5\n",
            "    Uninstalling helical-1.4.5:\n",
            "      Successfully uninstalled helical-1.4.5\n",
            "Successfully installed helical-1.4.5\n"
          ]
        },
        {
          "data": {
            "application/vnd.colab-display-data+json": {
              "id": "dd1c795ab81744dfab774b629ac54b1e",
              "pip_warning": {
                "packages": [
                  "helical"
                ]
              }
            }
          },
          "metadata": {},
          "output_type": "display_data"
        }
      ],
      "source": [
        "!pip install torchvision==0.20.0\n",
        "!pip install helical --force-reinstall --no-deps"
      ]
    },
    {
      "cell_type": "code",
      "execution_count": 1,
      "metadata": {
        "colab": {
          "base_uri": "https://localhost:8080/"
        },
        "id": "fDvLFdRLmYsr",
        "outputId": "18eb4c85-b9cf-4fc2-bfcf-43a75a5109af"
      },
      "outputs": [
        {
          "name": "stderr",
          "output_type": "stream",
          "text": [
            "INFO:numexpr.utils:NumExpr defaulting to 2 threads.\n",
            "INFO:datasets:PyTorch version 2.5.0 available.\n",
            "INFO:datasets:Polars version 1.25.2 available.\n",
            "INFO:datasets:Duckdb version 1.3.2 available.\n",
            "INFO:datasets:TensorFlow version 2.19.0 available.\n",
            "INFO:datasets:JAX version 0.5.3 available.\n"
          ]
        }
      ],
      "source": [
        "from helical.models.hyena_dna import HyenaDNA, HyenaDNAConfig, HyenaDNAFineTuningModel\n",
        "from datasets import load_dataset\n",
        "from sklearn.metrics import classification_report,confusion_matrix,ConfusionMatrixDisplay\n",
        "import matplotlib.pyplot as plt\n",
        "import torch\n",
        "import logging, warnings\n",
        "import numpy as np\n",
        "\n",
        "logging.getLogger().setLevel(logging.ERROR)\n",
        "\n",
        "warnings.filterwarnings(\"ignore\")"
      ]
    },
    {
      "cell_type": "markdown",
      "metadata": {
        "id": "cYS4-43m8oL-"
      },
      "source": [
        "## Using GPU if available"
      ]
    },
    {
      "cell_type": "code",
      "execution_count": 2,
      "metadata": {
        "id": "-fCGFLtEmxFE"
      },
      "outputs": [],
      "source": [
        "device = \"cuda\" if torch.cuda.is_available() else \"cpu\""
      ]
    },
    {
      "cell_type": "markdown",
      "metadata": {
        "id": "j6ga-AFN8STV"
      },
      "source": [
        "## Dataset Download\n",
        "\n",
        "\n",
        "\n",
        "*   Hugging Face Dataset API\n",
        "*   Dataset Can be Found Here https://huggingface.co/datasets/InstaDeepAI/nucleotide_transformer_downstream_tasks\n",
        "\n"
      ]
    },
    {
      "cell_type": "code",
      "execution_count": null,
      "metadata": {
        "id": "L_hGVm0sm4J6"
      },
      "outputs": [],
      "source": [
        "label = \"promoter_tata\"\n",
        "\n",
        "dataset = load_dataset(\"InstaDeepAI/nucleotide_transformer_downstream_tasks\",  trust_remote_code=True).filter(lambda x: x[\"task\"] == \"promoter_tata\")\n",
        "dataset_train = dataset[\"train\"]\n",
        "dataset_test = dataset[\"test\"]"
      ]
    },
    {
      "cell_type": "code",
      "execution_count": 4,
      "metadata": {
        "colab": {
          "base_uri": "https://localhost:8080/"
        },
        "id": "EbAdOJZmm6Yn",
        "outputId": "1df6a968-1226-43ad-88cf-ac742a10c516"
      },
      "outputs": [
        {
          "data": {
            "text/plain": [
              "{0: 2776, 1: 2733}"
            ]
          },
          "execution_count": 4,
          "metadata": {},
          "output_type": "execute_result"
        }
      ],
      "source": [
        "unique, counts = np.unique(dataset_train[\"label\"], return_counts=True)\n",
        "dict(zip(unique, counts))"
      ]
    },
    {
      "cell_type": "code",
      "execution_count": 5,
      "metadata": {
        "colab": {
          "base_uri": "https://localhost:8080/"
        },
        "id": "RiEjqHWtnAVt",
        "outputId": "18bb5688-45a0-4aaa-95b5-29e9566739f8"
      },
      "outputs": [
        {
          "data": {
            "text/plain": [
              "{0: 289, 1: 332}"
            ]
          },
          "execution_count": 5,
          "metadata": {},
          "output_type": "execute_result"
        }
      ],
      "source": [
        "unique, counts = np.unique(dataset_test[\"label\"], return_counts=True)\n",
        "dict(zip(unique, counts))"
      ]
    },
    {
      "cell_type": "markdown",
      "metadata": {
        "id": "1DuYJe5r9Tio"
      },
      "source": [
        "### Define our HyenaDNA fine-tuning model and configs"
      ]
    },
    {
      "cell_type": "code",
      "execution_count": 6,
      "metadata": {
        "colab": {
          "base_uri": "https://localhost:8080/"
        },
        "id": "K2r3FJeTnCRM",
        "outputId": "37f94c87-e9cf-4b95-d7c8-850b572a04d0"
      },
      "outputs": [
        {
          "name": "stderr",
          "output_type": "stream",
          "text": [
            "hyenadna-tiny-1k-seqlen-d256.ckpt: 100%|██████████| 19.8M/19.8M [00:01<00:00, 13.8MB/s]\n"
          ]
        }
      ],
      "source": [
        "hyena_config = HyenaDNAConfig(model_name=\"hyenadna-tiny-1k-seqlen-d256\", batch_size=10, device=device)\n",
        "hyena_fine_tune = HyenaDNAFineTuningModel(hyena_config, fine_tuning_head=\"classification\", output_size=len(np.unique(dataset_train[\"label\"])))"
      ]
    },
    {
      "cell_type": "markdown",
      "metadata": {
        "id": "E_ov1LeL9aly"
      },
      "source": [
        "## Train Test Split"
      ]
    },
    {
      "cell_type": "code",
      "execution_count": 7,
      "metadata": {
        "id": "_2Vdwx54nEdg"
      },
      "outputs": [],
      "source": [
        "train_dataset = hyena_fine_tune.process_data(dataset_train[\"sequence\"])\n",
        "test_dataset = hyena_fine_tune.process_data(dataset_test[\"sequence\"])"
      ]
    },
    {
      "cell_type": "code",
      "execution_count": 8,
      "metadata": {
        "colab": {
          "base_uri": "https://localhost:8080/"
        },
        "id": "GjqJ8PJsnHvS",
        "outputId": "96e8c5ad-c789-4fd1-cbac-d4a433466d9e"
      },
      "outputs": [
        {
          "name": "stderr",
          "output_type": "stream",
          "text": [
            "Fine-Tuning: epoch 1/10: 100%|██████████| 551/551 [00:14<00:00, 38.94it/s, loss=0.632]\n",
            "Fine-Tuning Validation: 100%|██████████| 63/63 [00:00<00:00, 93.06it/s, val_loss=0.489]\n",
            "Fine-Tuning: epoch 2/10: 100%|██████████| 551/551 [00:11<00:00, 48.95it/s, loss=0.373]\n",
            "Fine-Tuning Validation: 100%|██████████| 63/63 [00:00<00:00, 93.10it/s, val_loss=0.3]\n",
            "Fine-Tuning: epoch 3/10: 100%|██████████| 551/551 [00:10<00:00, 50.60it/s, loss=0.273]\n",
            "Fine-Tuning Validation: 100%|██████████| 63/63 [00:00<00:00, 93.90it/s, val_loss=0.243]\n",
            "Fine-Tuning: epoch 4/10: 100%|██████████| 551/551 [00:11<00:00, 49.78it/s, loss=0.236]\n",
            "Fine-Tuning Validation: 100%|██████████| 63/63 [00:00<00:00, 93.42it/s, val_loss=0.219]\n",
            "Fine-Tuning: epoch 5/10: 100%|██████████| 551/551 [00:11<00:00, 49.48it/s, loss=0.218]\n",
            "Fine-Tuning Validation: 100%|██████████| 63/63 [00:01<00:00, 46.99it/s, val_loss=0.208]\n",
            "Fine-Tuning: epoch 6/10: 100%|██████████| 551/551 [00:11<00:00, 47.83it/s, loss=0.205]\n",
            "Fine-Tuning Validation: 100%|██████████| 63/63 [00:00<00:00, 95.11it/s, val_loss=0.203]\n",
            "Fine-Tuning: epoch 7/10: 100%|██████████| 551/551 [00:10<00:00, 50.39it/s, loss=0.2]\n",
            "Fine-Tuning Validation: 100%|██████████| 63/63 [00:00<00:00, 74.01it/s, val_loss=0.194]\n",
            "Fine-Tuning: epoch 8/10: 100%|██████████| 551/551 [00:10<00:00, 51.30it/s, loss=0.195]\n",
            "Fine-Tuning Validation: 100%|██████████| 63/63 [00:00<00:00, 70.14it/s, val_loss=0.19]\n",
            "Fine-Tuning: epoch 9/10: 100%|██████████| 551/551 [00:10<00:00, 50.73it/s, loss=0.191]\n",
            "Fine-Tuning Validation: 100%|██████████| 63/63 [00:00<00:00, 69.98it/s, val_loss=0.187]\n",
            "Fine-Tuning: epoch 10/10: 100%|██████████| 551/551 [00:10<00:00, 50.22it/s, loss=0.19]\n",
            "Fine-Tuning Validation: 100%|██████████| 63/63 [00:00<00:00, 71.93it/s, val_loss=0.188]\n"
          ]
        }
      ],
      "source": [
        "hyena_fine_tune.train(train_dataset=train_dataset, train_labels=dataset_train[\"label\"], validation_dataset=test_dataset, validation_labels=dataset_test[\"label\"], epochs=10, optimizer_params={\"lr\": 2e-6}, lr_scheduler_params={\"name\": \"linear\", \"num_warmup_steps\": 0})"
      ]
    },
    {
      "cell_type": "markdown",
      "metadata": {
        "id": "rAPWQZjg9foB"
      },
      "source": [
        "### Predicting on Test Set"
      ]
    },
    {
      "cell_type": "code",
      "execution_count": 9,
      "metadata": {
        "colab": {
          "base_uri": "https://localhost:8080/"
        },
        "id": "qlN3BaxPnKfv",
        "outputId": "389b67fa-e974-40aa-b774-9a7139ca4019"
      },
      "outputs": [
        {
          "name": "stderr",
          "output_type": "stream",
          "text": [
            "100%|██████████| 63/63 [00:01<00:00, 60.35it/s]\n"
          ]
        }
      ],
      "source": [
        "outputs = hyena_fine_tune.get_outputs(test_dataset)"
      ]
    },
    {
      "cell_type": "markdown",
      "metadata": {
        "id": "UlHIeP1r9kdO"
      },
      "source": [
        "## Evaluation Metrics"
      ]
    },
    {
      "cell_type": "code",
      "execution_count": 10,
      "metadata": {
        "colab": {
          "base_uri": "https://localhost:8080/"
        },
        "id": "rYs61Ge2nrry",
        "outputId": "f60a1295-ce49-4584-a652-611fbbecab20"
      },
      "outputs": [
        {
          "name": "stdout",
          "output_type": "stream",
          "text": [
            "              precision    recall  f1-score   support\n",
            "\n",
            "           0       0.94      0.92      0.93       289\n",
            "           1       0.93      0.95      0.94       332\n",
            "\n",
            "    accuracy                           0.94       621\n",
            "   macro avg       0.94      0.93      0.94       621\n",
            "weighted avg       0.94      0.94      0.94       621\n",
            "\n"
          ]
        }
      ],
      "source": [
        "print(classification_report(dataset_test[\"label\"], outputs.argmax(axis=1)))"
      ]
    },
    {
      "cell_type": "markdown",
      "metadata": {
        "id": "m66I2vT_9oCx"
      },
      "source": [
        "## Confusion Matrix"
      ]
    },
    {
      "cell_type": "code",
      "execution_count": 11,
      "metadata": {
        "colab": {
          "base_uri": "https://localhost:8080/",
          "height": 1000
        },
        "id": "20wJGSfbnt79",
        "outputId": "03e68b67-547c-479e-96ab-b26bbd2e8d40"
      },
      "outputs": [
        {
          "data": {
            "image/png": "[encoded data removed]",
            "text/plain": [
              "<Figure size 1000x1000 with 2 Axes>"
            ]
          },
          "metadata": {
            "needs_background": "light"
          },
          "output_type": "display_data"
        }
      ],
      "source": [
        "# Compute the confusion matrix\n",
        "cm = confusion_matrix(dataset_test[\"label\"], outputs.argmax(axis=1))\n",
        "\n",
        "# Perform row-wise normalization\n",
        "cm_normalized = cm.astype('float') / cm.sum(axis=1)[:, np.newaxis]\n",
        "\n",
        "# Get unique labels in the order they appear in the confusion matrix\n",
        "unique_labels = np.unique(np.concatenate((dataset_test[\"label\"], outputs.argmax(axis=1))))\n",
        "\n",
        "# Create and plot the normalized confusion matrix\n",
        "fig, ax = plt.subplots(figsize=(10, 10))\n",
        "disp = ConfusionMatrixDisplay(confusion_matrix=cm_normalized, display_labels=unique_labels)\n",
        "disp.plot(ax=ax, xticks_rotation='vertical', values_format='.2f', cmap='coolwarm')\n",
        "\n",
        "# Customize the plot\n",
        "ax.set_title('Normalized Confusion Matrix (Row-wise)')\n",
        "fig.set_facecolor(\"none\")\n",
        "\n",
        "plt.tight_layout()\n",
        "plt.show()"
      ]
    },
    {
      "cell_type": "code",
      "execution_count": 15,
      "metadata": {
        "id": "0rlmNYkpnw14"
      },
      "outputs": [],
      "source": [
        "import torch"
      ]
    },
    {
      "cell_type": "code",
      "execution_count": 13,
      "metadata": {
        "id": "adETe0RCn-s6"
      },
      "outputs": [],
      "source": [
        "model_to_save = hyena_fine_tune.model\n"
      ]
    },
    {
      "cell_type": "markdown",
      "metadata": {
        "id": "dDWWYqCi9s5q"
      },
      "source": [
        "#### Saving Model"
      ]
    },
    {
      "cell_type": "code",
      "execution_count": 14,
      "metadata": {
        "colab": {
          "base_uri": "https://localhost:8080/"
        },
        "id": "7IOyMPeXoMC0",
        "outputId": "fad6a199-e45c-46ce-89b0-4c48303237da"
      },
      "outputs": [
        {
          "name": "stdout",
          "output_type": "stream",
          "text": [
            "Fine-tuned model weights saved to: hyenadna_promoter_tata_fine_tuned.pt\n"
          ]
        }
      ],
      "source": [
        "save_path = \"hyenadna_promoter_tata_fine_tuned.pt\"\n",
        "\n",
        "torch.save(model_to_save.state_dict(), save_path)\n",
        "\n",
        "print(f\"Fine-tuned model weights saved to: {save_path}\")"
      ]
    },
    {
      "cell_type": "code",
      "execution_count": null,
      "metadata": {
        "id": "OtZ6hnxWoPoR"
      },
      "outputs": [],
      "source": []
    }
  ],
  "metadata": {
    "accelerator": "GPU",
    "colab": {
      "gpuType": "T4",
      "provenance": []
    },
    "kernelspec": {
      "display_name": "Python 3",
      "name": "python3"
    },
    "language_info": {
      "name": "python"
    }
  },
  "nbformat": 4,
  "nbformat_minor": 0
}
